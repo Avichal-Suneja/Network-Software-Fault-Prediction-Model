{
 "cells": [
  {
   "cell_type": "code",
   "execution_count": 1,
   "id": "de7ad399",
   "metadata": {},
   "outputs": [],
   "source": [
    "import numpy as np\n",
    "import pandas as pd"
   ]
  },
  {
   "cell_type": "code",
   "execution_count": 2,
   "id": "92e4b376",
   "metadata": {},
   "outputs": [],
   "source": [
    "import tensorflow as tf\n",
    "from tensorflow import keras"
   ]
  },
  {
   "cell_type": "code",
   "execution_count": 6,
   "id": "cbe9b220",
   "metadata": {},
   "outputs": [],
   "source": [
    "Data_set = np.loadtxt(\"datasheet.csv\", delimiter=',')\n",
    "train_samples = Data_set[:, 0:3]\n",
    "train_labels = Data_set[:, 3]"
   ]
  },
  {
   "cell_type": "code",
   "execution_count": 7,
   "id": "97dcb418",
   "metadata": {},
   "outputs": [],
   "source": [
    "from sklearn.preprocessing import StandardScaler\n",
    "scaler = StandardScaler()\n",
    "train_samples = scaler.fit_transform(train_samples)"
   ]
  },
  {
   "cell_type": "code",
   "execution_count": 13,
   "id": "cab4abf3",
   "metadata": {},
   "outputs": [],
   "source": [
    "model = keras.models.Sequential()\n",
    "model.add(keras.layers.Dense(3, input_dim=3))\n",
    "model.add(keras.layers.Dense(64, activation = \"relu\"))\n",
    "model.add(keras.layers.Dense(64, activation = \"relu\"))\n",
    "model.add(keras.layers.Dense(64, activation = \"relu\"))\n",
    "model.add(keras.layers.Dense(1, activation = \"sigmoid\"))"
   ]
  },
  {
   "cell_type": "code",
   "execution_count": 14,
   "id": "3a4db125",
   "metadata": {},
   "outputs": [],
   "source": [
    "model.compile(loss = \"binary_crossentropy\", optimizer = 'adam',\n",
    "                  metrics = ['accuracy'])"
   ]
  },
  {
   "cell_type": "code",
   "execution_count": 15,
   "id": "25ad6981",
   "metadata": {},
   "outputs": [],
   "source": [
    "checkpoint_cb = keras.callbacks.ModelCheckpoint(\"FaultPrediction_Model\", save_best_only=True)\n",
    "early_stopping_cb = keras.callbacks.EarlyStopping(patience=20, restore_best_weights=True)"
   ]
  },
  {
   "cell_type": "code",
   "execution_count": 16,
   "id": "8f235f42",
   "metadata": {},
   "outputs": [],
   "source": [
    "np.random.seed(50)\n",
    "tf.random.set_seed(50)"
   ]
  },
  {
   "cell_type": "code",
   "execution_count": 17,
   "id": "9651d26d",
   "metadata": {},
   "outputs": [
    {
     "name": "stdout",
     "output_type": "stream",
     "text": [
      "Epoch 1/1000\n",
      "834/834 [==============================] - 3s 3ms/step - loss: 0.1440 - accuracy: 0.9599 - val_loss: 0.1146 - val_accuracy: 0.9555\n",
      "INFO:tensorflow:Assets written to: FaultPrediction_Model\\assets\n",
      "Epoch 2/1000\n",
      "834/834 [==============================] - 2s 2ms/step - loss: 0.1195 - accuracy: 0.9648 - val_loss: 0.1107 - val_accuracy: 0.9551\n",
      "INFO:tensorflow:Assets written to: FaultPrediction_Model\\assets\n",
      "Epoch 3/1000\n",
      "834/834 [==============================] - 2s 2ms/step - loss: 0.1187 - accuracy: 0.9648 - val_loss: 0.1093 - val_accuracy: 0.9548\n",
      "INFO:tensorflow:Assets written to: FaultPrediction_Model\\assets\n",
      "Epoch 4/1000\n",
      "834/834 [==============================] - 2s 2ms/step - loss: 0.1173 - accuracy: 0.9654 - val_loss: 0.1164 - val_accuracy: 0.9551\n",
      "Epoch 5/1000\n",
      "834/834 [==============================] - 2s 2ms/step - loss: 0.1174 - accuracy: 0.9651 - val_loss: 0.1152 - val_accuracy: 0.9555\n",
      "Epoch 6/1000\n",
      "834/834 [==============================] - 2s 2ms/step - loss: 0.1171 - accuracy: 0.9649 - val_loss: 0.1190 - val_accuracy: 0.9551\n",
      "Epoch 7/1000\n",
      "834/834 [==============================] - 2s 2ms/step - loss: 0.1160 - accuracy: 0.9653 - val_loss: 0.1150 - val_accuracy: 0.9558\n",
      "Epoch 8/1000\n",
      "834/834 [==============================] - 2s 3ms/step - loss: 0.1161 - accuracy: 0.9653 - val_loss: 0.1146 - val_accuracy: 0.9561\n",
      "Epoch 9/1000\n",
      "834/834 [==============================] - 2s 2ms/step - loss: 0.1153 - accuracy: 0.9654 - val_loss: 0.1142 - val_accuracy: 0.9561\n",
      "Epoch 10/1000\n",
      "834/834 [==============================] - 2s 2ms/step - loss: 0.1145 - accuracy: 0.9655 - val_loss: 0.1234 - val_accuracy: 0.9561\n",
      "Epoch 11/1000\n",
      "834/834 [==============================] - 2s 3ms/step - loss: 0.1144 - accuracy: 0.9655 - val_loss: 0.1178 - val_accuracy: 0.9555\n",
      "Epoch 12/1000\n",
      "834/834 [==============================] - 2s 2ms/step - loss: 0.1139 - accuracy: 0.9658 - val_loss: 0.1223 - val_accuracy: 0.9558\n",
      "Epoch 13/1000\n",
      "834/834 [==============================] - 2s 2ms/step - loss: 0.1130 - accuracy: 0.9660 - val_loss: 0.1087 - val_accuracy: 0.9568\n",
      "INFO:tensorflow:Assets written to: FaultPrediction_Model\\assets\n",
      "Epoch 14/1000\n",
      "834/834 [==============================] - 2s 2ms/step - loss: 0.1119 - accuracy: 0.9663 - val_loss: 0.1122 - val_accuracy: 0.9548\n",
      "Epoch 15/1000\n",
      "834/834 [==============================] - 2s 2ms/step - loss: 0.1116 - accuracy: 0.9669 - val_loss: 0.1176 - val_accuracy: 0.9551\n",
      "Epoch 16/1000\n",
      "834/834 [==============================] - 2s 2ms/step - loss: 0.1113 - accuracy: 0.9669 - val_loss: 0.1152 - val_accuracy: 0.9568\n",
      "Epoch 17/1000\n",
      "834/834 [==============================] - 2s 2ms/step - loss: 0.1112 - accuracy: 0.9654 - val_loss: 0.1280 - val_accuracy: 0.9551\n",
      "Epoch 18/1000\n",
      "834/834 [==============================] - 2s 2ms/step - loss: 0.1103 - accuracy: 0.9669 - val_loss: 0.1241 - val_accuracy: 0.9565\n",
      "Epoch 19/1000\n",
      "834/834 [==============================] - 2s 2ms/step - loss: 0.1088 - accuracy: 0.9674 - val_loss: 0.1216 - val_accuracy: 0.9555\n",
      "Epoch 20/1000\n",
      "834/834 [==============================] - 2s 2ms/step - loss: 0.1089 - accuracy: 0.9680 - val_loss: 0.1339 - val_accuracy: 0.9565\n",
      "Epoch 21/1000\n",
      "834/834 [==============================] - 2s 2ms/step - loss: 0.1090 - accuracy: 0.9675 - val_loss: 0.1122 - val_accuracy: 0.9572\n",
      "Epoch 22/1000\n",
      "834/834 [==============================] - 2s 2ms/step - loss: 0.1087 - accuracy: 0.9677 - val_loss: 0.1139 - val_accuracy: 0.9565\n",
      "Epoch 23/1000\n",
      "834/834 [==============================] - 2s 2ms/step - loss: 0.1082 - accuracy: 0.9683 - val_loss: 0.1192 - val_accuracy: 0.9572\n",
      "Epoch 24/1000\n",
      "834/834 [==============================] - 2s 2ms/step - loss: 0.1086 - accuracy: 0.9672 - val_loss: 0.1212 - val_accuracy: 0.9575\n",
      "Epoch 25/1000\n",
      "834/834 [==============================] - 2s 2ms/step - loss: 0.1075 - accuracy: 0.9682 - val_loss: 0.1144 - val_accuracy: 0.9578\n",
      "Epoch 26/1000\n",
      "834/834 [==============================] - 2s 2ms/step - loss: 0.1079 - accuracy: 0.9682 - val_loss: 0.1154 - val_accuracy: 0.9572\n",
      "Epoch 27/1000\n",
      "834/834 [==============================] - 2s 2ms/step - loss: 0.1078 - accuracy: 0.9677 - val_loss: 0.1119 - val_accuracy: 0.9575\n",
      "Epoch 28/1000\n",
      "834/834 [==============================] - 2s 2ms/step - loss: 0.1073 - accuracy: 0.9687 - val_loss: 0.1082 - val_accuracy: 0.9582\n",
      "INFO:tensorflow:Assets written to: FaultPrediction_Model\\assets\n",
      "Epoch 29/1000\n",
      "834/834 [==============================] - 2s 2ms/step - loss: 0.1070 - accuracy: 0.9681 - val_loss: 0.1135 - val_accuracy: 0.9592\n",
      "Epoch 30/1000\n",
      "834/834 [==============================] - 2s 2ms/step - loss: 0.1072 - accuracy: 0.9682 - val_loss: 0.1156 - val_accuracy: 0.9578\n",
      "Epoch 31/1000\n",
      "834/834 [==============================] - 2s 2ms/step - loss: 0.1069 - accuracy: 0.9681 - val_loss: 0.1139 - val_accuracy: 0.9582\n",
      "Epoch 32/1000\n",
      "834/834 [==============================] - 2s 2ms/step - loss: 0.1065 - accuracy: 0.9687 - val_loss: 0.1168 - val_accuracy: 0.9602\n",
      "Epoch 33/1000\n",
      "834/834 [==============================] - 2s 2ms/step - loss: 0.1069 - accuracy: 0.9682 - val_loss: 0.1101 - val_accuracy: 0.9575\n",
      "Epoch 34/1000\n",
      "834/834 [==============================] - 2s 2ms/step - loss: 0.1071 - accuracy: 0.9675 - val_loss: 0.1223 - val_accuracy: 0.9578\n",
      "Epoch 35/1000\n",
      "834/834 [==============================] - 2s 2ms/step - loss: 0.1067 - accuracy: 0.9684 - val_loss: 0.1163 - val_accuracy: 0.9575\n",
      "Epoch 36/1000\n",
      "834/834 [==============================] - 2s 2ms/step - loss: 0.1062 - accuracy: 0.9680 - val_loss: 0.1286 - val_accuracy: 0.9572\n",
      "Epoch 37/1000\n",
      "834/834 [==============================] - 2s 2ms/step - loss: 0.1071 - accuracy: 0.9681 - val_loss: 0.1055 - val_accuracy: 0.9592\n",
      "INFO:tensorflow:Assets written to: FaultPrediction_Model\\assets\n",
      "Epoch 38/1000\n",
      "834/834 [==============================] - 2s 2ms/step - loss: 0.1064 - accuracy: 0.9689 - val_loss: 0.1015 - val_accuracy: 0.9609\n",
      "INFO:tensorflow:Assets written to: FaultPrediction_Model\\assets\n",
      "Epoch 39/1000\n",
      "834/834 [==============================] - 2s 2ms/step - loss: 0.1062 - accuracy: 0.9690 - val_loss: 0.1076 - val_accuracy: 0.9582\n",
      "Epoch 40/1000\n",
      "834/834 [==============================] - 2s 2ms/step - loss: 0.1060 - accuracy: 0.9689 - val_loss: 0.1237 - val_accuracy: 0.9585\n",
      "Epoch 41/1000\n",
      "834/834 [==============================] - 2s 2ms/step - loss: 0.1061 - accuracy: 0.9690 - val_loss: 0.1221 - val_accuracy: 0.9572\n",
      "Epoch 42/1000\n",
      "834/834 [==============================] - 2s 2ms/step - loss: 0.1062 - accuracy: 0.9691 - val_loss: 0.1189 - val_accuracy: 0.9588\n",
      "Epoch 43/1000\n",
      "834/834 [==============================] - 2s 2ms/step - loss: 0.1065 - accuracy: 0.9680 - val_loss: 0.1100 - val_accuracy: 0.9592\n",
      "Epoch 44/1000\n",
      "834/834 [==============================] - 2s 2ms/step - loss: 0.1063 - accuracy: 0.9682 - val_loss: 0.1142 - val_accuracy: 0.9588\n",
      "Epoch 45/1000\n",
      "834/834 [==============================] - 2s 2ms/step - loss: 0.1058 - accuracy: 0.9687 - val_loss: 0.1087 - val_accuracy: 0.9585\n",
      "Epoch 46/1000\n",
      "834/834 [==============================] - 2s 2ms/step - loss: 0.1056 - accuracy: 0.9685 - val_loss: 0.1020 - val_accuracy: 0.9619\n",
      "Epoch 47/1000\n",
      "834/834 [==============================] - 2s 2ms/step - loss: 0.1053 - accuracy: 0.9690 - val_loss: 0.1107 - val_accuracy: 0.9602\n",
      "Epoch 48/1000\n",
      "834/834 [==============================] - 2s 2ms/step - loss: 0.1048 - accuracy: 0.9690 - val_loss: 0.1129 - val_accuracy: 0.9605\n",
      "Epoch 49/1000\n",
      "834/834 [==============================] - 2s 2ms/step - loss: 0.1050 - accuracy: 0.9693 - val_loss: 0.1163 - val_accuracy: 0.9599\n",
      "Epoch 50/1000\n",
      "834/834 [==============================] - 2s 2ms/step - loss: 0.1047 - accuracy: 0.9694 - val_loss: 0.1148 - val_accuracy: 0.9602\n",
      "Epoch 51/1000\n",
      "834/834 [==============================] - 2s 2ms/step - loss: 0.1047 - accuracy: 0.9689 - val_loss: 0.1100 - val_accuracy: 0.9592\n",
      "Epoch 52/1000\n",
      "834/834 [==============================] - 2s 2ms/step - loss: 0.1056 - accuracy: 0.9687 - val_loss: 0.1151 - val_accuracy: 0.9592\n",
      "Epoch 53/1000\n",
      "834/834 [==============================] - 2s 2ms/step - loss: 0.1047 - accuracy: 0.9691 - val_loss: 0.1118 - val_accuracy: 0.9592\n",
      "Epoch 54/1000\n",
      "834/834 [==============================] - 2s 2ms/step - loss: 0.1044 - accuracy: 0.9693 - val_loss: 0.1015 - val_accuracy: 0.9609\n",
      "Epoch 55/1000\n",
      "834/834 [==============================] - 2s 2ms/step - loss: 0.1052 - accuracy: 0.9683 - val_loss: 0.1209 - val_accuracy: 0.9582\n",
      "Epoch 56/1000\n",
      "834/834 [==============================] - 2s 2ms/step - loss: 0.1049 - accuracy: 0.9685 - val_loss: 0.1212 - val_accuracy: 0.9592\n",
      "Epoch 57/1000\n",
      "834/834 [==============================] - 2s 2ms/step - loss: 0.1044 - accuracy: 0.9691 - val_loss: 0.1181 - val_accuracy: 0.9582\n",
      "Epoch 58/1000\n",
      "834/834 [==============================] - 2s 2ms/step - loss: 0.1036 - accuracy: 0.9695 - val_loss: 0.1243 - val_accuracy: 0.9595\n"
     ]
    },
    {
     "data": {
      "text/plain": [
       "<tensorflow.python.keras.callbacks.History at 0x16976231610>"
      ]
     },
     "execution_count": 17,
     "metadata": {},
     "output_type": "execute_result"
    }
   ],
   "source": [
    "model.fit(train_samples, train_labels, epochs = 1000, validation_split = 0.1,\n",
    "          callbacks = [checkpoint_cb, early_stopping_cb])"
   ]
  },
  {
   "cell_type": "code",
   "execution_count": 18,
   "id": "a5b5e8c3",
   "metadata": {},
   "outputs": [],
   "source": [
    "model = keras.models.load_model(\"FaultPrediction_Model\")\n",
    "test_data = np.loadtxt(\"Testdatasheet.csv\", delimiter = ',')\n",
    "test_samples = test_data[:, 0:3]\n",
    "test_labels = test_data[:, 3]\n",
    "test_samples = scaler.fit_transform(test_samples)"
   ]
  },
  {
   "cell_type": "code",
   "execution_count": 19,
   "id": "dc89c693",
   "metadata": {},
   "outputs": [
    {
     "name": "stdout",
     "output_type": "stream",
     "text": [
      "231/231 [==============================] - 1s 2ms/step - loss: 0.3133 - accuracy: 0.9050\n"
     ]
    },
    {
     "data": {
      "text/plain": [
       "[0.3132641911506653, 0.9049810767173767]"
      ]
     },
     "execution_count": 19,
     "metadata": {},
     "output_type": "execute_result"
    }
   ],
   "source": [
    "model.evaluate(test_samples, test_labels)"
   ]
  },
  {
   "cell_type": "code",
   "execution_count": null,
   "id": "54531e54",
   "metadata": {},
   "outputs": [],
   "source": []
  }
 ],
 "metadata": {
  "kernelspec": {
   "display_name": "Python 3",
   "language": "python",
   "name": "python3"
  },
  "language_info": {
   "codemirror_mode": {
    "name": "ipython",
    "version": 3
   },
   "file_extension": ".py",
   "mimetype": "text/x-python",
   "name": "python",
   "nbconvert_exporter": "python",
   "pygments_lexer": "ipython3",
   "version": "3.9.1"
  }
 },
 "nbformat": 4,
 "nbformat_minor": 5
}
